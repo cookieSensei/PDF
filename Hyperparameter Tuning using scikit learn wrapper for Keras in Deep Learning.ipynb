{
 "cells": [
  {
   "cell_type": "markdown",
   "id": "86a64f20",
   "metadata": {},
   "source": [
    "# Hyper-parameter Tuning in Keras\n",
    "\n",
    "Used a sample in built dataset **MNIST** to demonstrate how endless of parameters could be tuned using scikit learn wrapper for keras.\n",
    "\n",
    "Author: Ashish Chaudhary\n",
    "\n",
    "LinkedIn: https://www.linkedin.com/in/ashish-chaudhary-150353196/"
   ]
  },
  {
   "cell_type": "markdown",
   "id": "d2805b75",
   "metadata": {},
   "source": [
    "### Caution: \n",
    "\n",
    "* Please make sure gpu support is enabled. On Colab, use gpu runtime. \n",
    "* Script could take more than 5 minutes to run.\n",
    "\n"
   ]
  },
  {
   "cell_type": "code",
   "execution_count": 1,
   "id": "b09bb1f6",
   "metadata": {},
   "outputs": [],
   "source": [
    "from datetime import datetime\n",
    "\n",
    "start_time = datetime.now()"
   ]
  },
  {
   "cell_type": "code",
   "execution_count": 2,
   "id": "5c109a5f",
   "metadata": {},
   "outputs": [],
   "source": [
    "def initialize():\n",
    "    \n",
    "    import tensorflow as tf\n",
    "    \n",
    "    print(\"Tensorflow built with CUDA: \", end=\"\")\n",
    "    print(tf.test.is_built_with_cuda())\n",
    "        \n",
    "    try:\n",
    "        print(\"Using the following hardware:\")\n",
    "        print(tf.config.experimental.get_device_details(\n",
    "            tf.config.list_physical_devices('GPU')[0]))\n",
    "    except:\n",
    "        print(\"Unknown GPU\")\n",
    "        \n",
    "    assert tf.test.is_built_with_cuda(), \"Please make sure CUDA gpu support is enabled\""
   ]
  },
  {
   "cell_type": "code",
   "execution_count": 3,
   "id": "ae147c81",
   "metadata": {},
   "outputs": [
    {
     "name": "stdout",
     "output_type": "stream",
     "text": [
      "Tensorflow built with CUDA: True\n",
      "Using the following hardware:\n",
      "{'device_name': 'NVIDIA GeForce RTX 2060', 'compute_capability': (7, 5)}\n"
     ]
    }
   ],
   "source": [
    "initialize()"
   ]
  },
  {
   "cell_type": "markdown",
   "id": "2e4f2215",
   "metadata": {},
   "source": [
    "### Uncomment below code cell to install scikeras"
   ]
  },
  {
   "cell_type": "code",
   "execution_count": 4,
   "id": "899cf049",
   "metadata": {},
   "outputs": [],
   "source": [
    "# !pip install scikeras"
   ]
  },
  {
   "cell_type": "code",
   "execution_count": 5,
   "id": "c23d7d1c",
   "metadata": {},
   "outputs": [],
   "source": [
    "import tensorflow as tf\n",
    "import scikeras\n",
    "from scikeras.wrappers import KerasClassifier\n",
    "\n",
    "from sklearn.model_selection import RandomizedSearchCV\n",
    "from sklearn.model_selection import GridSearchCV\n",
    "\n",
    "import pandas as pd\n",
    "import numpy as np\n",
    "import matplotlib.pyplot as plt\n",
    "%matplotlib inline\n",
    "\n",
    "import seaborn as sns\n",
    "sns.set_style(\"whitegrid\")\n",
    "\n",
    "from IPython.display import display"
   ]
  },
  {
   "cell_type": "code",
   "execution_count": 6,
   "id": "764b61aa",
   "metadata": {},
   "outputs": [],
   "source": [
    "def build_model(\n",
    "    n_hidden=1,\n",
    "    n_neurons=32,\n",
    "    learning_rate=0.001,\n",
    "    dropout=0.2):\n",
    "    \n",
    "    \n",
    "    \"\"\"Helper function to build the model architecture. \n",
    "    Uses: To aid in hyperparameter tuning and search.\n",
    "    \n",
    "    Parameters:\n",
    "    ---------\n",
    "        n_hidden: number of hidden layers\n",
    "            Default: 1\n",
    "        n_neurons: number of neurons in a layer\n",
    "            Default: 32\n",
    "        learning_rate: learning rate to use in adam optimizer\n",
    "            Default: 0.001\n",
    "        dropout: Dropout regularization\n",
    "            Default: 0.2\n",
    "            \n",
    "    Returns:\n",
    "    -------\n",
    "        Compiled Keras Model\n",
    "    \"\"\"\n",
    "    import tensorflow as tf\n",
    "    \n",
    "    # Sequential model\n",
    "    model = tf.keras.models.Sequential()\n",
    "    \n",
    "    model.add(tf.keras.layers.Flatten(input_shape=(28,28)))\n",
    "    \n",
    "    # Add 1 dense layer according to n_hidden with dropout probability\n",
    "    # according to dropout parameter\n",
    "    for i in range(n_hidden):\n",
    "        model.add(tf.keras.layers.Dense(n_neurons, activation=\"relu\"))\n",
    "        model.add(tf.keras.layers.Dropout(dropout))\n",
    "    \n",
    "    model.add(tf.keras.layers.Dense(10, activation=\"softmax\"))\n",
    "    \n",
    "    # Compile the model according to the learning rate provided as\n",
    "    # learning_rate parameter of the helper function build_model \n",
    "    model.compile(\n",
    "        loss=\"sparse_categorical_crossentropy\",\n",
    "        metrics=[\"accuracy\"],\n",
    "        optimizer=tf.keras.optimizers.Adam(learning_rate=learning_rate)\n",
    "    )\n",
    "    \n",
    "    return model"
   ]
  },
  {
   "cell_type": "code",
   "execution_count": 7,
   "id": "9479da2e",
   "metadata": {},
   "outputs": [],
   "source": [
    "def train_and_plot_mnist(model):\n",
    "    \n",
    "    \"\"\"Function to train the provided keras model and\n",
    "    plot the respective history (loss and accuracy)\n",
    "    \n",
    "    Parameters:\n",
    "    ----------\n",
    "        model: Keras model\n",
    "        \n",
    "    Returns:\n",
    "    -------\n",
    "        History object containing loss and accuracy\n",
    "    \"\"\"\n",
    "    \n",
    "    # Load mnist data\n",
    "    (X_train, y_train), (X_test, y_test) = tf.keras.datasets.mnist.load_data()\n",
    "    \n",
    "    # Normalize the range 0-255 to 0-1\n",
    "    X_train, X_test = X_train/255.0, X_test/255.0\n",
    "    \n",
    "    # Model training\n",
    "    results = model.fit(\n",
    "        X_train, y_train,\n",
    "        validation_data=(X_test, y_test),\n",
    "        batch_size=256,\n",
    "        epochs=10, \n",
    "        verbose=0\n",
    "    )\n",
    "    \n",
    "    # Create dataframe for loss and accuracy\n",
    "    df = pd.DataFrame(results.history)\n",
    "    display(df)\n",
    "    \n",
    "    # Plot metrics for train and validation set\n",
    "    df.plot(figsize=(8,5))\n",
    "    plt.gca().set_ylim(0,1)\n",
    "    plt.yticks(np.arange(0, 1.05, 0.05))\n",
    "    plt.xticks(np.arange(0, 10, 1))\n",
    "    plt.show()\n",
    "    \n",
    "    return results"
   ]
  },
  {
   "cell_type": "code",
   "execution_count": 8,
   "id": "dd28e2e5",
   "metadata": {},
   "outputs": [],
   "source": [
    "(X_train, y_train), (X_test, y_test) = tf.keras.datasets.mnist.load_data()\n",
    "X_train, X_test = X_train/255.0, X_test/255.0"
   ]
  },
  {
   "cell_type": "markdown",
   "id": "bfd4d51b",
   "metadata": {},
   "source": [
    "Here's how some sample images in mnist dataset looks"
   ]
  },
  {
   "cell_type": "code",
   "execution_count": 9,
   "id": "aea832bf",
   "metadata": {
    "scrolled": true
   },
   "outputs": [
    {
     "name": "stdout",
     "output_type": "stream",
     "text": [
      "Ground Truth Label: 5\n"
     ]
    },
    {
     "data": {
      "image/png": "[encoded data removed]",
      "text/plain": [
       "<Figure size 100x100 with 1 Axes>"
      ]
     },
     "metadata": {},
     "output_type": "display_data"
    },
    {
     "name": "stdout",
     "output_type": "stream",
     "text": [
      "Ground Truth Label: 0\n"
     ]
    },
    {
     "data": {
      "image/png": "[encoded data removed]",
      "text/plain": [
       "<Figure size 100x100 with 1 Axes>"
      ]
     },
     "metadata": {},
     "output_type": "display_data"
    }
   ],
   "source": [
    "for index in [0,1]:\n",
    "    print(\"Ground Truth Label:\", y_train[index])\n",
    "\n",
    "    plt.figure(figsize=(1,1))\n",
    "    plt.imshow(X_train[index], cmap=plt.cm.gray)\n",
    "    plt.show()"
   ]
  },
  {
   "cell_type": "markdown",
   "id": "90a3f7ef",
   "metadata": {},
   "source": [
    "# Hyper-parameter search space\n",
    "\n",
    "\n",
    "We will one by one, try different combinations of hidden layers, number of neurons, learning rate in Adam optimizer, and dropout regularization\n",
    "\n",
    "* Layers: 1,2,3\n",
    "\n",
    "* Neurons: 64, 128, 256\n",
    "\n",
    "* Learning rate: 0.01, 0.001, 0.005, 0.0001\n",
    "\n",
    "* Dropout probability: 0, 0.2, 0.4, 0.6, 0.8\n",
    "\n",
    "\n",
    "We will use first, randomized search with 16 fits to **observe training time** and parameter space behavior and then accordingly use GridSearchCV."
   ]
  },
  {
   "cell_type": "markdown",
   "id": "813b3208",
   "metadata": {},
   "source": [
    "# Randomized Search CV"
   ]
  },
  {
   "cell_type": "code",
   "execution_count": 10,
   "id": "edcac558",
   "metadata": {
    "scrolled": false
   },
   "outputs": [
    {
     "data": {
      "text/plain": [
       "{'n_hidden': [1, 2, 3],\n",
       " 'n_neurons': [64, 128, 256],\n",
       " 'learning_rate': [0.01, 0.001, 0.005, 0.0001],\n",
       " 'dropout': array([0. , 0.2, 0.4, 0.6, 0.8])}"
      ]
     },
     "metadata": {},
     "output_type": "display_data"
    },
    {
     "name": "stdout",
     "output_type": "stream",
     "text": [
      "Fitting 2 folds for each of 8 candidates, totalling 16 fits\n",
      "938/938 [==============================] - 1s 872us/step\n",
      "[CV] END dropout=0.0, learning_rate=0.0001, n_hidden=3, n_neurons=128; total time=   4.2s\n",
      "938/938 [==============================] - 1s 846us/step\n",
      "[CV] END dropout=0.0, learning_rate=0.0001, n_hidden=3, n_neurons=128; total time=   2.9s\n",
      "938/938 [==============================] - 1s 749us/step\n",
      "[CV] END dropout=0.4, learning_rate=0.0001, n_hidden=1, n_neurons=128; total time=   2.9s\n",
      "938/938 [==============================] - 1s 741us/step\n",
      "[CV] END dropout=0.4, learning_rate=0.0001, n_hidden=1, n_neurons=128; total time=   2.8s\n",
      "938/938 [==============================] - 1s 787us/step\n",
      "[CV] END dropout=0.8, learning_rate=0.001, n_hidden=2, n_neurons=64; total time=   3.0s\n",
      "938/938 [==============================] - 1s 780us/step\n",
      "[CV] END dropout=0.8, learning_rate=0.001, n_hidden=2, n_neurons=64; total time=   3.0s\n",
      "938/938 [==============================] - 1s 796us/step\n",
      "[CV] END dropout=0.0, learning_rate=0.0001, n_hidden=2, n_neurons=128; total time=   3.0s\n",
      "938/938 [==============================] - 1s 846us/step\n",
      "[CV] END dropout=0.0, learning_rate=0.0001, n_hidden=2, n_neurons=128; total time=   3.0s\n",
      "938/938 [==============================] - 1s 804us/step\n",
      "[CV] END dropout=0.0, learning_rate=0.005, n_hidden=3, n_neurons=64; total time=   3.1s\n",
      "938/938 [==============================] - 1s 821us/step\n",
      "[CV] END dropout=0.0, learning_rate=0.005, n_hidden=3, n_neurons=64; total time=   3.1s\n",
      "938/938 [==============================] - 1s 784us/step\n",
      "[CV] END dropout=0.0, learning_rate=0.0001, n_hidden=2, n_neurons=256; total time=   3.0s\n",
      "938/938 [==============================] - 1s 797us/step\n",
      "[CV] END dropout=0.0, learning_rate=0.0001, n_hidden=2, n_neurons=256; total time=   3.1s\n",
      "938/938 [==============================] - 1s 785us/step\n",
      "[CV] END dropout=0.2, learning_rate=0.0001, n_hidden=2, n_neurons=128; total time=   3.1s\n",
      "938/938 [==============================] - 1s 776us/step\n",
      "[CV] END dropout=0.2, learning_rate=0.0001, n_hidden=2, n_neurons=128; total time=   3.0s\n",
      "938/938 [==============================] - 1s 773us/step\n",
      "[CV] END dropout=0.8, learning_rate=0.001, n_hidden=1, n_neurons=128; total time=   2.9s\n",
      "938/938 [==============================] - 1s 752us/step\n",
      "[CV] END dropout=0.8, learning_rate=0.001, n_hidden=1, n_neurons=128; total time=   3.0s\n"
     ]
    },
    {
     "data": {
      "text/plain": [
       "{'n_neurons': 64, 'n_hidden': 3, 'learning_rate': 0.005, 'dropout': 0.0}"
      ]
     },
     "metadata": {},
     "output_type": "display_data"
    },
    {
     "data": {
      "text/plain": [
       "0.96165"
      ]
     },
     "metadata": {},
     "output_type": "display_data"
    }
   ],
   "source": [
    "(X_train, y_train), (X_test, y_test) = tf.keras.datasets.mnist.load_data()\n",
    "X_train, X_test = X_train/255.0, X_test/255.0\n",
    "\n",
    "\n",
    "# Hyper parameter combinations: 3x3x4x5\n",
    "# Number of random fits selected: 8 \n",
    "# x 2 (cross-validation fits)\n",
    "# Total fits: 16\n",
    "\n",
    "param_distrib = {\n",
    "    \"n_hidden\": [1, 2, 3],\n",
    "    \"n_neurons\": [64, 128, 256],\n",
    "    \"learning_rate\": [0.01, 0.001, 0.005, 0.0001],\n",
    "    \"dropout\": np.arange(0, 0.9, 0.2)\n",
    "}\n",
    "\n",
    "display(param_distrib)\n",
    "\n",
    "# Scikit learn wrapper for Keras\n",
    "# It'll take a custom model building function to work\n",
    "# We have build_model as our helper function\n",
    "# Other parameters like n_hidden to KerasClassifier call will be\n",
    "# used as arguments inside our helper function (build_model)\n",
    "keras_clf = KerasClassifier(\n",
    "    build_model,\n",
    "    n_hidden=1,\n",
    "    n_neurons=64,\n",
    "    learning_rate=0.001,\n",
    "    dropout=0.2\n",
    ")\n",
    "\n",
    "# While using scikit learn wrappers for keras\n",
    "# pass a keras custom model and other search parameters\n",
    "# like dict containing hyper-parameter combinations\n",
    "randomized_search = RandomizedSearchCV(\n",
    "    keras_clf,\n",
    "    param_distrib,\n",
    "    n_iter=8,\n",
    "    cv=2,\n",
    "    verbose=2\n",
    ")\n",
    "\n",
    "# Batch size 1024 used, please reduce if error comes\n",
    "history = randomized_search.fit(\n",
    "    X_train, y_train,\n",
    "    epochs=10,\n",
    "    validation_data=(X_test, y_test),\n",
    "    batch_size=1024,\n",
    "    verbose=0\n",
    ")\n",
    "\n",
    "display(randomized_search.best_params_)\n",
    "display(randomized_search.best_score_)"
   ]
  },
  {
   "cell_type": "code",
   "execution_count": 11,
   "id": "6cf8ee86",
   "metadata": {},
   "outputs": [
    {
     "data": {
      "text/plain": [
       "{'n_neurons': 64, 'n_hidden': 3, 'learning_rate': 0.005, 'dropout': 0.0}"
      ]
     },
     "metadata": {},
     "output_type": "display_data"
    },
    {
     "data": {
      "text/plain": [
       "0.96165"
      ]
     },
     "metadata": {},
     "output_type": "display_data"
    }
   ],
   "source": [
    "display(randomized_search.best_params_)\n",
    "display(randomized_search.best_score_)"
   ]
  },
  {
   "cell_type": "code",
   "execution_count": 12,
   "id": "608c3a8e",
   "metadata": {},
   "outputs": [
    {
     "name": "stdout",
     "output_type": "stream",
     "text": [
      "DOne\n"
     ]
    }
   ],
   "source": [
    "print(\"DOne\")"
   ]
  },
  {
   "cell_type": "markdown",
   "id": "e6e5d30b",
   "metadata": {},
   "source": [
    "# Caution: GridSearchCV\n",
    "\n",
    "We have now a basic idea of which hyper parameters to search in gridsearchcv.\n",
    "\n",
    "**Parameter combinations:**\n",
    "\n",
    "3x2x2x3 (x2 cross-validation fits)\n",
    "\n",
    "**Combinations: 36**\n",
    "\n",
    "**Total fits: 72 fits**"
   ]
  },
  {
   "cell_type": "code",
   "execution_count": 13,
   "id": "15a95d82",
   "metadata": {
    "scrolled": true
   },
   "outputs": [
    {
     "name": "stdout",
     "output_type": "stream",
     "text": [
      "Parameter search range:\n"
     ]
    },
    {
     "data": {
      "text/plain": [
       "{'n_hidden': [1, 2, 3],\n",
       " 'n_neurons': [128, 256],\n",
       " 'learning_rate': [0.001, 0.005],\n",
       " 'dropout': [0.1, 0.2, 0.3]}"
      ]
     },
     "metadata": {},
     "output_type": "display_data"
    },
    {
     "name": "stdout",
     "output_type": "stream",
     "text": [
      "Fitting 2 folds for each of 36 candidates, totalling 72 fits\n",
      "938/938 [==============================] - 1s 789us/step\n",
      "[CV] END dropout=0.1, learning_rate=0.001, n_hidden=1, n_neurons=128; total time=   2.7s\n",
      "938/938 [==============================] - 1s 745us/step\n",
      "[CV] END dropout=0.1, learning_rate=0.001, n_hidden=1, n_neurons=128; total time=   2.6s\n",
      "938/938 [==============================] - 1s 727us/step\n",
      "[CV] END dropout=0.1, learning_rate=0.001, n_hidden=1, n_neurons=256; total time=   2.7s\n",
      "938/938 [==============================] - 1s 793us/step\n",
      "[CV] END dropout=0.1, learning_rate=0.001, n_hidden=1, n_neurons=256; total time=   2.7s\n",
      "938/938 [==============================] - 1s 882us/step\n",
      "[CV] END dropout=0.1, learning_rate=0.001, n_hidden=2, n_neurons=128; total time=   2.8s\n",
      "938/938 [==============================] - 1s 777us/step\n",
      "[CV] END dropout=0.1, learning_rate=0.001, n_hidden=2, n_neurons=128; total time=   2.7s\n",
      "938/938 [==============================] - 1s 1ms/step\n",
      "[CV] END dropout=0.1, learning_rate=0.001, n_hidden=2, n_neurons=256; total time=   3.2s\n",
      "938/938 [==============================] - 1s 935us/step\n",
      "[CV] END dropout=0.1, learning_rate=0.001, n_hidden=2, n_neurons=256; total time=   3.0s\n",
      "938/938 [==============================] - 1s 886us/step\n",
      "[CV] END dropout=0.1, learning_rate=0.001, n_hidden=3, n_neurons=128; total time=   3.0s\n",
      "938/938 [==============================] - 1s 994us/step\n",
      "[CV] END dropout=0.1, learning_rate=0.001, n_hidden=3, n_neurons=128; total time=   3.2s\n",
      "938/938 [==============================] - 1s 888us/step\n",
      "[CV] END dropout=0.1, learning_rate=0.001, n_hidden=3, n_neurons=256; total time=   3.0s\n",
      "938/938 [==============================] - 1s 892us/step\n",
      "[CV] END dropout=0.1, learning_rate=0.001, n_hidden=3, n_neurons=256; total time=   3.0s\n",
      "938/938 [==============================] - 1s 836us/step\n",
      "[CV] END dropout=0.1, learning_rate=0.005, n_hidden=1, n_neurons=128; total time=   2.6s\n",
      "938/938 [==============================] - 1s 748us/step\n",
      "[CV] END dropout=0.1, learning_rate=0.005, n_hidden=1, n_neurons=128; total time=   2.7s\n",
      "938/938 [==============================] - 1s 760us/step\n",
      "[CV] END dropout=0.1, learning_rate=0.005, n_hidden=1, n_neurons=256; total time=   2.7s\n",
      "938/938 [==============================] - 1s 829us/step\n",
      "[CV] END dropout=0.1, learning_rate=0.005, n_hidden=1, n_neurons=256; total time=   2.8s\n",
      "938/938 [==============================] - 1s 898us/step\n",
      "[CV] END dropout=0.1, learning_rate=0.005, n_hidden=2, n_neurons=128; total time=   2.9s\n",
      "938/938 [==============================] - 1s 812us/step\n",
      "[CV] END dropout=0.1, learning_rate=0.005, n_hidden=2, n_neurons=128; total time=   2.8s\n",
      "938/938 [==============================] - 1s 819us/step\n",
      "[CV] END dropout=0.1, learning_rate=0.005, n_hidden=2, n_neurons=256; total time=   3.1s\n",
      "938/938 [==============================] - 1s 829us/step\n",
      "[CV] END dropout=0.1, learning_rate=0.005, n_hidden=2, n_neurons=256; total time=   2.8s\n",
      "938/938 [==============================] - 1s 884us/step\n",
      "[CV] END dropout=0.1, learning_rate=0.005, n_hidden=3, n_neurons=128; total time=   2.9s\n",
      "938/938 [==============================] - 1s 826us/step\n",
      "[CV] END dropout=0.1, learning_rate=0.005, n_hidden=3, n_neurons=128; total time=   2.9s\n",
      "938/938 [==============================] - 1s 830us/step\n",
      "[CV] END dropout=0.1, learning_rate=0.005, n_hidden=3, n_neurons=256; total time=   3.0s\n",
      "938/938 [==============================] - 1s 860us/step\n",
      "[CV] END dropout=0.1, learning_rate=0.005, n_hidden=3, n_neurons=256; total time=   2.9s\n",
      "938/938 [==============================] - 1s 740us/step\n",
      "[CV] END dropout=0.2, learning_rate=0.001, n_hidden=1, n_neurons=128; total time=   2.5s\n",
      "938/938 [==============================] - 1s 769us/step\n",
      "[CV] END dropout=0.2, learning_rate=0.001, n_hidden=1, n_neurons=128; total time=   2.7s\n",
      "938/938 [==============================] - 1s 741us/step\n",
      "[CV] END dropout=0.2, learning_rate=0.001, n_hidden=1, n_neurons=256; total time=   2.6s\n",
      "938/938 [==============================] - 1s 738us/step\n",
      "[CV] END dropout=0.2, learning_rate=0.001, n_hidden=1, n_neurons=256; total time=   2.6s\n",
      "938/938 [==============================] - 1s 793us/step\n",
      "[CV] END dropout=0.2, learning_rate=0.001, n_hidden=2, n_neurons=128; total time=   3.0s\n",
      "938/938 [==============================] - 1s 792us/step\n",
      "[CV] END dropout=0.2, learning_rate=0.001, n_hidden=2, n_neurons=128; total time=   2.8s\n",
      "938/938 [==============================] - 1s 822us/step\n",
      "[CV] END dropout=0.2, learning_rate=0.001, n_hidden=2, n_neurons=256; total time=   2.9s\n",
      "938/938 [==============================] - 1s 798us/step\n",
      "[CV] END dropout=0.2, learning_rate=0.001, n_hidden=2, n_neurons=256; total time=   2.8s\n",
      "938/938 [==============================] - 1s 813us/step\n",
      "[CV] END dropout=0.2, learning_rate=0.001, n_hidden=3, n_neurons=128; total time=   3.0s\n",
      "938/938 [==============================] - 1s 828us/step\n",
      "[CV] END dropout=0.2, learning_rate=0.001, n_hidden=3, n_neurons=128; total time=   2.9s\n",
      "938/938 [==============================] - 1s 833us/step\n",
      "[CV] END dropout=0.2, learning_rate=0.001, n_hidden=3, n_neurons=256; total time=   3.0s\n",
      "938/938 [==============================] - 1s 834us/step\n",
      "[CV] END dropout=0.2, learning_rate=0.001, n_hidden=3, n_neurons=256; total time=   2.9s\n",
      "938/938 [==============================] - 1s 766us/step\n",
      "[CV] END dropout=0.2, learning_rate=0.005, n_hidden=1, n_neurons=128; total time=   2.5s\n",
      "938/938 [==============================] - 1s 756us/step\n",
      "[CV] END dropout=0.2, learning_rate=0.005, n_hidden=1, n_neurons=128; total time=   2.7s\n",
      "938/938 [==============================] - 1s 733us/step\n",
      "[CV] END dropout=0.2, learning_rate=0.005, n_hidden=1, n_neurons=256; total time=   2.5s\n",
      "938/938 [==============================] - 1s 734us/step\n",
      "[CV] END dropout=0.2, learning_rate=0.005, n_hidden=1, n_neurons=256; total time=   2.9s\n",
      "938/938 [==============================] - 1s 815us/step\n",
      "[CV] END dropout=0.2, learning_rate=0.005, n_hidden=2, n_neurons=128; total time=   2.8s\n",
      "938/938 [==============================] - 1s 811us/step\n",
      "[CV] END dropout=0.2, learning_rate=0.005, n_hidden=2, n_neurons=128; total time=   2.8s\n",
      "938/938 [==============================] - 1s 789us/step\n",
      "[CV] END dropout=0.2, learning_rate=0.005, n_hidden=2, n_neurons=256; total time=   2.8s\n",
      "938/938 [==============================] - 1s 780us/step\n",
      "[CV] END dropout=0.2, learning_rate=0.005, n_hidden=2, n_neurons=256; total time=   2.7s\n",
      "938/938 [==============================] - 1s 852us/step\n",
      "[CV] END dropout=0.2, learning_rate=0.005, n_hidden=3, n_neurons=128; total time=   3.0s\n",
      "938/938 [==============================] - 1s 810us/step\n",
      "[CV] END dropout=0.2, learning_rate=0.005, n_hidden=3, n_neurons=128; total time=   2.9s\n",
      "938/938 [==============================] - 1s 869us/step\n",
      "[CV] END dropout=0.2, learning_rate=0.005, n_hidden=3, n_neurons=256; total time=   3.1s\n",
      "938/938 [==============================] - 1s 833us/step\n",
      "[CV] END dropout=0.2, learning_rate=0.005, n_hidden=3, n_neurons=256; total time=   2.8s\n",
      "938/938 [==============================] - 1s 740us/step\n",
      "[CV] END dropout=0.3, learning_rate=0.001, n_hidden=1, n_neurons=128; total time=   2.4s\n",
      "938/938 [==============================] - 1s 744us/step\n",
      "[CV] END dropout=0.3, learning_rate=0.001, n_hidden=1, n_neurons=128; total time=   2.7s\n",
      "938/938 [==============================] - 1s 745us/step\n",
      "[CV] END dropout=0.3, learning_rate=0.001, n_hidden=1, n_neurons=256; total time=   2.8s\n",
      "938/938 [==============================] - 1s 757us/step\n",
      "[CV] END dropout=0.3, learning_rate=0.001, n_hidden=1, n_neurons=256; total time=   2.6s\n",
      "938/938 [==============================] - 1s 801us/step\n",
      "[CV] END dropout=0.3, learning_rate=0.001, n_hidden=2, n_neurons=128; total time=   2.8s\n",
      "938/938 [==============================] - 1s 775us/step\n",
      "[CV] END dropout=0.3, learning_rate=0.001, n_hidden=2, n_neurons=128; total time=   2.8s\n",
      "938/938 [==============================] - 1s 775us/step\n",
      "[CV] END dropout=0.3, learning_rate=0.001, n_hidden=2, n_neurons=256; total time=   2.8s\n",
      "938/938 [==============================] - 1s 810us/step\n",
      "[CV] END dropout=0.3, learning_rate=0.001, n_hidden=2, n_neurons=256; total time=   2.8s\n"
     ]
    },
    {
     "name": "stdout",
     "output_type": "stream",
     "text": [
      "938/938 [==============================] - 1s 853us/step\n",
      "[CV] END dropout=0.3, learning_rate=0.001, n_hidden=3, n_neurons=128; total time=   2.9s\n",
      "938/938 [==============================] - 1s 860us/step\n",
      "[CV] END dropout=0.3, learning_rate=0.001, n_hidden=3, n_neurons=128; total time=   2.9s\n",
      "938/938 [==============================] - 1s 874us/step\n",
      "[CV] END dropout=0.3, learning_rate=0.001, n_hidden=3, n_neurons=256; total time=   3.0s\n",
      "938/938 [==============================] - 1s 842us/step\n",
      "[CV] END dropout=0.3, learning_rate=0.001, n_hidden=3, n_neurons=256; total time=   2.9s\n",
      "938/938 [==============================] - 1s 760us/step\n",
      "[CV] END dropout=0.3, learning_rate=0.005, n_hidden=1, n_neurons=128; total time=   2.5s\n",
      "938/938 [==============================] - 1s 757us/step\n",
      "[CV] END dropout=0.3, learning_rate=0.005, n_hidden=1, n_neurons=128; total time=   2.9s\n",
      "938/938 [==============================] - 1s 719us/step\n",
      "[CV] END dropout=0.3, learning_rate=0.005, n_hidden=1, n_neurons=256; total time=   2.7s\n",
      "938/938 [==============================] - 1s 735us/step\n",
      "[CV] END dropout=0.3, learning_rate=0.005, n_hidden=1, n_neurons=256; total time=   2.7s\n",
      "938/938 [==============================] - 1s 796us/step\n",
      "[CV] END dropout=0.3, learning_rate=0.005, n_hidden=2, n_neurons=128; total time=   2.8s\n",
      "938/938 [==============================] - 1s 830us/step\n",
      "[CV] END dropout=0.3, learning_rate=0.005, n_hidden=2, n_neurons=128; total time=   2.8s\n",
      "938/938 [==============================] - 1s 796us/step\n",
      "[CV] END dropout=0.3, learning_rate=0.005, n_hidden=2, n_neurons=256; total time=   2.9s\n",
      "938/938 [==============================] - 1s 801us/step\n",
      "[CV] END dropout=0.3, learning_rate=0.005, n_hidden=2, n_neurons=256; total time=   2.8s\n",
      "938/938 [==============================] - 1s 829us/step\n",
      "[CV] END dropout=0.3, learning_rate=0.005, n_hidden=3, n_neurons=128; total time=   3.0s\n",
      "938/938 [==============================] - 1s 874us/step\n",
      "[CV] END dropout=0.3, learning_rate=0.005, n_hidden=3, n_neurons=128; total time=   3.0s\n",
      "938/938 [==============================] - 1s 898us/step\n",
      "[CV] END dropout=0.3, learning_rate=0.005, n_hidden=3, n_neurons=256; total time=   3.1s\n",
      "938/938 [==============================] - 1s 836us/step\n",
      "[CV] END dropout=0.3, learning_rate=0.005, n_hidden=3, n_neurons=256; total time=   2.9s\n"
     ]
    }
   ],
   "source": [
    "(X_train, y_train), (X_test, y_test) = tf.keras.datasets.mnist.load_data()\n",
    "X_train, X_test = X_train/255.0, X_test/255.0\n",
    "\n",
    "param_distrib = {\n",
    "    \"n_hidden\": [1, 2, 3],\n",
    "    \"n_neurons\": [128, 256],\n",
    "    \"learning_rate\": [0.001, 0.005],\n",
    "    \"dropout\": [0.1, 0.2, 0.3]\n",
    "}\n",
    "\n",
    "print(\"Parameter search range:\")\n",
    "display(param_distrib)\n",
    "\n",
    "keras_clf = KerasClassifier(\n",
    "    build_model,\n",
    "    n_hidden=1,\n",
    "    n_neurons=32,\n",
    "    learning_rate=0.001,\n",
    "    dropout=0.2\n",
    ")\n",
    "\n",
    "grid = GridSearchCV(\n",
    "    keras_clf,\n",
    "    param_distrib,\n",
    "    cv=2,\n",
    "    verbose=2\n",
    ")\n",
    "\n",
    "# Batch size 2048 used, please reduce if error comes\n",
    "history_grid = grid.fit(\n",
    "    X_train, y_train,\n",
    "    epochs=10,\n",
    "    validation_data=(X_test, y_test),\n",
    "    batch_size=2048,\n",
    "    verbose=0\n",
    ")"
   ]
  },
  {
   "cell_type": "code",
   "execution_count": 14,
   "id": "c32fe811",
   "metadata": {},
   "outputs": [
    {
     "name": "stdout",
     "output_type": "stream",
     "text": [
      "Idle\n"
     ]
    }
   ],
   "source": [
    "print(\"Idle\")"
   ]
  },
  {
   "cell_type": "code",
   "execution_count": 15,
   "id": "12c37c47",
   "metadata": {},
   "outputs": [
    {
     "data": {
      "text/plain": [
       "0.97205"
      ]
     },
     "execution_count": 15,
     "metadata": {},
     "output_type": "execute_result"
    }
   ],
   "source": [
    "grid.best_score_"
   ]
  },
  {
   "cell_type": "code",
   "execution_count": 16,
   "id": "e7c79607",
   "metadata": {},
   "outputs": [
    {
     "data": {
      "text/plain": [
       "{'dropout': 0.2, 'learning_rate': 0.005, 'n_hidden': 3, 'n_neurons': 256}"
      ]
     },
     "execution_count": 16,
     "metadata": {},
     "output_type": "execute_result"
    }
   ],
   "source": [
    "grid.best_params_"
   ]
  },
  {
   "cell_type": "markdown",
   "id": "83f3d82b",
   "metadata": {},
   "source": [
    "# Finalized model with best parameters"
   ]
  },
  {
   "cell_type": "code",
   "execution_count": 17,
   "id": "409f70f5",
   "metadata": {},
   "outputs": [
    {
     "name": "stdout",
     "output_type": "stream",
     "text": [
      "Help on function build_model in module __main__:\n",
      "\n",
      "build_model(n_hidden=1, n_neurons=32, learning_rate=0.001, dropout=0.2)\n",
      "    Helper function to build the model architecture. \n",
      "    Uses: To aid in hyperparameter tuning and search.\n",
      "    \n",
      "    Parameters:\n",
      "    ---------\n",
      "        n_hidden: number of hidden layers\n",
      "            Default: 1\n",
      "        n_neurons: number of neurons in a layer\n",
      "            Default: 32\n",
      "        learning_rate: learning rate to use in adam optimizer\n",
      "            Default: 0.001\n",
      "        dropout: Dropout regularization\n",
      "            Default: 0.2\n",
      "            \n",
      "    Returns:\n",
      "    -------\n",
      "        Compiled Keras Model\n",
      "\n"
     ]
    }
   ],
   "source": [
    "help(build_model)"
   ]
  },
  {
   "cell_type": "code",
   "execution_count": 18,
   "id": "485d34ef",
   "metadata": {},
   "outputs": [
    {
     "name": "stdout",
     "output_type": "stream",
     "text": [
      "Help on function train_and_plot_mnist in module __main__:\n",
      "\n",
      "train_and_plot_mnist(model)\n",
      "    Function to train the provided keras model and\n",
      "    plot the respective history (loss and accuracy)\n",
      "    \n",
      "    Parameters:\n",
      "    ----------\n",
      "        model: Keras model\n",
      "        \n",
      "    Returns:\n",
      "    -------\n",
      "        History object containing loss and accuracy\n",
      "\n"
     ]
    }
   ],
   "source": [
    "help(train_and_plot_mnist)"
   ]
  },
  {
   "cell_type": "code",
   "execution_count": 19,
   "id": "0b6b2da3",
   "metadata": {},
   "outputs": [
    {
     "data": {
      "text/html": [
       "<div>\n",
       "<style scoped>\n",
       "    .dataframe tbody tr th:only-of-type {\n",
       "        vertical-align: middle;\n",
       "    }\n",
       "\n",
       "    .dataframe tbody tr th {\n",
       "        vertical-align: top;\n",
       "    }\n",
       "\n",
       "    .dataframe thead th {\n",
       "        text-align: right;\n",
       "    }\n",
       "</style>\n",
       "<table border=\"1\" class=\"dataframe\">\n",
       "  <thead>\n",
       "    <tr style=\"text-align: right;\">\n",
       "      <th></th>\n",
       "      <th>loss</th>\n",
       "      <th>accuracy</th>\n",
       "      <th>val_loss</th>\n",
       "      <th>val_accuracy</th>\n",
       "    </tr>\n",
       "  </thead>\n",
       "  <tbody>\n",
       "    <tr>\n",
       "      <th>0</th>\n",
       "      <td>0.258477</td>\n",
       "      <td>0.919700</td>\n",
       "      <td>0.121039</td>\n",
       "      <td>0.9621</td>\n",
       "    </tr>\n",
       "    <tr>\n",
       "      <th>1</th>\n",
       "      <td>0.127475</td>\n",
       "      <td>0.961317</td>\n",
       "      <td>0.091437</td>\n",
       "      <td>0.9718</td>\n",
       "    </tr>\n",
       "    <tr>\n",
       "      <th>2</th>\n",
       "      <td>0.099124</td>\n",
       "      <td>0.969467</td>\n",
       "      <td>0.083624</td>\n",
       "      <td>0.9737</td>\n",
       "    </tr>\n",
       "    <tr>\n",
       "      <th>3</th>\n",
       "      <td>0.087651</td>\n",
       "      <td>0.972317</td>\n",
       "      <td>0.085175</td>\n",
       "      <td>0.9741</td>\n",
       "    </tr>\n",
       "    <tr>\n",
       "      <th>4</th>\n",
       "      <td>0.076660</td>\n",
       "      <td>0.976617</td>\n",
       "      <td>0.088964</td>\n",
       "      <td>0.9732</td>\n",
       "    </tr>\n",
       "    <tr>\n",
       "      <th>5</th>\n",
       "      <td>0.072418</td>\n",
       "      <td>0.976683</td>\n",
       "      <td>0.078472</td>\n",
       "      <td>0.9756</td>\n",
       "    </tr>\n",
       "    <tr>\n",
       "      <th>6</th>\n",
       "      <td>0.070097</td>\n",
       "      <td>0.978150</td>\n",
       "      <td>0.082376</td>\n",
       "      <td>0.9765</td>\n",
       "    </tr>\n",
       "    <tr>\n",
       "      <th>7</th>\n",
       "      <td>0.060604</td>\n",
       "      <td>0.980467</td>\n",
       "      <td>0.084961</td>\n",
       "      <td>0.9776</td>\n",
       "    </tr>\n",
       "    <tr>\n",
       "      <th>8</th>\n",
       "      <td>0.061465</td>\n",
       "      <td>0.980917</td>\n",
       "      <td>0.084745</td>\n",
       "      <td>0.9783</td>\n",
       "    </tr>\n",
       "    <tr>\n",
       "      <th>9</th>\n",
       "      <td>0.059583</td>\n",
       "      <td>0.981367</td>\n",
       "      <td>0.098607</td>\n",
       "      <td>0.9744</td>\n",
       "    </tr>\n",
       "  </tbody>\n",
       "</table>\n",
       "</div>"
      ],
      "text/plain": [
       "       loss  accuracy  val_loss  val_accuracy\n",
       "0  0.258477  0.919700  0.121039        0.9621\n",
       "1  0.127475  0.961317  0.091437        0.9718\n",
       "2  0.099124  0.969467  0.083624        0.9737\n",
       "3  0.087651  0.972317  0.085175        0.9741\n",
       "4  0.076660  0.976617  0.088964        0.9732\n",
       "5  0.072418  0.976683  0.078472        0.9756\n",
       "6  0.070097  0.978150  0.082376        0.9765\n",
       "7  0.060604  0.980467  0.084961        0.9776\n",
       "8  0.061465  0.980917  0.084745        0.9783\n",
       "9  0.059583  0.981367  0.098607        0.9744"
      ]
     },
     "metadata": {},
     "output_type": "display_data"
    },
    {
     "data": {
      "image/png": "[encoded data removed]",
      "text/plain": [
       "<Figure size 800x500 with 1 Axes>"
      ]
     },
     "metadata": {},
     "output_type": "display_data"
    }
   ],
   "source": [
    "model2 = build_model(\n",
    "    learning_rate=0.005,\n",
    "    n_hidden=2,\n",
    "    n_neurons=256,\n",
    "    dropout=0.2\n",
    ")\n",
    "\n",
    "results = train_and_plot_mnist(model2)"
   ]
  },
  {
   "cell_type": "code",
   "execution_count": 20,
   "id": "7fe05661",
   "metadata": {},
   "outputs": [
    {
     "name": "stdout",
     "output_type": "stream",
     "text": [
      "Model: \"sequential_90\"\n",
      "_________________________________________________________________\n",
      " Layer (type)                Output Shape              Param #   \n",
      "=================================================================\n",
      " flatten_90 (Flatten)        (None, 784)               0         \n",
      "                                                                 \n",
      " dense_272 (Dense)           (None, 256)               200960    \n",
      "                                                                 \n",
      " dropout_182 (Dropout)       (None, 256)               0         \n",
      "                                                                 \n",
      " dense_273 (Dense)           (None, 256)               65792     \n",
      "                                                                 \n",
      " dropout_183 (Dropout)       (None, 256)               0         \n",
      "                                                                 \n",
      " dense_274 (Dense)           (None, 10)                2570      \n",
      "                                                                 \n",
      "=================================================================\n",
      "Total params: 269,322\n",
      "Trainable params: 269,322\n",
      "Non-trainable params: 0\n",
      "_________________________________________________________________\n"
     ]
    }
   ],
   "source": [
    "model2.summary()"
   ]
  },
  {
   "cell_type": "markdown",
   "id": "46292b8c",
   "metadata": {},
   "source": [
    "# Classification Report"
   ]
  },
  {
   "cell_type": "code",
   "execution_count": 21,
   "id": "9581f67b",
   "metadata": {},
   "outputs": [
    {
     "name": "stdout",
     "output_type": "stream",
     "text": [
      "313/313 [==============================] - 0s 795us/step\n"
     ]
    },
    {
     "data": {
      "text/plain": [
       "array([7, 2, 1, ..., 4, 5, 6], dtype=int64)"
      ]
     },
     "execution_count": 21,
     "metadata": {},
     "output_type": "execute_result"
    }
   ],
   "source": [
    "y_pred_prob = model2.predict(X_test)\n",
    "y_pred = np.argmax(y_pred_prob, axis=1)\n",
    "y_pred"
   ]
  },
  {
   "cell_type": "code",
   "execution_count": 22,
   "id": "ac4d5f41",
   "metadata": {},
   "outputs": [
    {
     "data": {
      "text/plain": [
       "array([7, 2, 1, ..., 4, 5, 6], dtype=uint8)"
      ]
     },
     "execution_count": 22,
     "metadata": {},
     "output_type": "execute_result"
    }
   ],
   "source": [
    "y_test"
   ]
  },
  {
   "cell_type": "code",
   "execution_count": 23,
   "id": "4cc32037",
   "metadata": {},
   "outputs": [
    {
     "name": "stdout",
     "output_type": "stream",
     "text": [
      "Classification Report:\n",
      "              precision    recall  f1-score   support\n",
      "\n",
      "           0       0.96      0.99      0.98       980\n",
      "           1       0.98      0.99      0.99      1135\n",
      "           2       0.97      0.97      0.97      1032\n",
      "           3       0.97      0.98      0.98      1010\n",
      "           4       0.97      0.98      0.97       982\n",
      "           5       0.96      0.98      0.97       892\n",
      "           6       0.98      0.98      0.98       958\n",
      "           7       0.98      0.96      0.97      1028\n",
      "           8       0.97      0.96      0.96       974\n",
      "           9       0.98      0.94      0.96      1009\n",
      "\n",
      "    accuracy                           0.97     10000\n",
      "   macro avg       0.97      0.97      0.97     10000\n",
      "weighted avg       0.97      0.97      0.97     10000\n",
      "\n"
     ]
    }
   ],
   "source": [
    "from sklearn.metrics import classification_report\n",
    "print(\"Classification Report:\")\n",
    "print(classification_report(y_test, y_pred))"
   ]
  },
  {
   "cell_type": "code",
   "execution_count": 24,
   "id": "cd5b4512",
   "metadata": {},
   "outputs": [
    {
     "name": "stdout",
     "output_type": "stream",
     "text": [
      "Confusion Matrix:\n",
      "[[ 973    1    0    0    0    3    0    0    2    1]\n",
      " [   0 1126    5    1    0    1    1    0    1    0]\n",
      " [  11    0 1001    2    2    0    1    3   12    0]\n",
      " [   0    0    4  994    0    5    0    4    2    1]\n",
      " [   1    0    2    0  963    0    5    2    2    7]\n",
      " [   2    0    0   10    0  872    5    0    3    0]\n",
      " [   8    3    0    1    4    4  937    0    1    0]\n",
      " [   2    7   14    2    3    1    0  992    3    4]\n",
      " [   8    1    2    6    5   10    2    1  937    2]\n",
      " [   4    6    0    6   20   11    1    7    5  949]]\n"
     ]
    }
   ],
   "source": [
    "from sklearn.metrics import confusion_matrix\n",
    "from sklearn.metrics import ConfusionMatrixDisplay\n",
    "\n",
    "conf_matrix = confusion_matrix(y_test, y_pred)\n",
    "print(\"Confusion Matrix:\")\n",
    "print(conf_matrix)"
   ]
  },
  {
   "cell_type": "markdown",
   "id": "3fffe3c1",
   "metadata": {},
   "source": [
    "## To find the errors\n",
    "\n",
    "**Highlighted points in the below graph are our errors made by the model**"
   ]
  },
  {
   "cell_type": "code",
   "execution_count": 25,
   "id": "92b74c2c",
   "metadata": {},
   "outputs": [
    {
     "data": {
      "image/png": "[encoded data removed]",
      "text/plain": [
       "<Figure size 640x480 with 2 Axes>"
      ]
     },
     "metadata": {},
     "output_type": "display_data"
    }
   ],
   "source": [
    "conf_matrix = confusion_matrix(y_test, y_pred)\n",
    "\n",
    "np.fill_diagonal(conf_matrix, 0)\n",
    "\n",
    "fig, ax = plt.subplots()\n",
    "\n",
    "for (row, col), value in np.ndenumerate(conf_matrix):\n",
    "    ax.text(col, row, value, ha='center', va='center', \n",
    "            bbox=dict(boxstyle='round', facecolor='black', \n",
    "                      edgecolor='0.1', alpha=0.4))\n",
    "\n",
    "disp = ConfusionMatrixDisplay(conf_matrix)\n",
    "disp.plot(cmap=plt.cm.Purples, ax=ax)\n",
    "plt.show()"
   ]
  },
  {
   "cell_type": "code",
   "execution_count": 26,
   "id": "72ff5c12",
   "metadata": {},
   "outputs": [],
   "source": [
    "def plot_digit(index):\n",
    "    plt.figure(figsize=(1.5, 1.5))\n",
    "    plt.imshow(X_test[i], cmap=plt.cm.gray)\n",
    "    plt.title(\"True Label: {}\\nPredicted Label: {}\".format(y_test[i], y_pred[i]))\n",
    "    plt.show()"
   ]
  },
  {
   "cell_type": "code",
   "execution_count": 27,
   "id": "5a169b38",
   "metadata": {},
   "outputs": [],
   "source": [
    "misclassified_idx = np.where(y_test != y_pred)[0]"
   ]
  },
  {
   "cell_type": "code",
   "execution_count": 28,
   "id": "e1066b40",
   "metadata": {},
   "outputs": [
    {
     "data": {
      "image/png": "[encoded data removed]",
      "text/plain": [
       "<Figure size 150x150 with 1 Axes>"
      ]
     },
     "metadata": {},
     "output_type": "display_data"
    },
    {
     "data": {
      "image/png": "[encoded data removed]",
      "text/plain": [
       "<Figure size 150x150 with 1 Axes>"
      ]
     },
     "metadata": {},
     "output_type": "display_data"
    },
    {
     "data": {
      "image/png": "[encoded data removed]",
      "text/plain": [
       "<Figure size 150x150 with 1 Axes>"
      ]
     },
     "metadata": {},
     "output_type": "display_data"
    },
    {
     "data": {
      "image/png": "[encoded data removed]",
      "text/plain": [
       "<Figure size 150x150 with 1 Axes>"
      ]
     },
     "metadata": {},
     "output_type": "display_data"
    }
   ],
   "source": [
    "for i in misclassified_idx[:4]:\n",
    "    plot_digit(i)"
   ]
  },
  {
   "cell_type": "code",
   "execution_count": 29,
   "id": "b1d54518",
   "metadata": {},
   "outputs": [
    {
     "name": "stdout",
     "output_type": "stream",
     "text": [
      "Total time to run the script: 279 seconds\n"
     ]
    }
   ],
   "source": [
    "end_time = datetime.now()\n",
    "total_time = end_time - start_time\n",
    "\n",
    "print(\"Total time to run the script:\", \n",
    "      int(total_time.total_seconds()), \"seconds\")"
   ]
  },
  {
   "cell_type": "code",
   "execution_count": null,
   "id": "0370ac06",
   "metadata": {},
   "outputs": [],
   "source": []
  }
 ],
 "metadata": {
  "kernelspec": {
   "display_name": "Python 3 (ipykernel)",
   "language": "python",
   "name": "python3"
  },
  "language_info": {
   "codemirror_mode": {
    "name": "ipython",
    "version": 3
   },
   "file_extension": ".py",
   "mimetype": "text/x-python",
   "name": "python",
   "nbconvert_exporter": "python",
   "pygments_lexer": "ipython3",
   "version": "3.10.8"
  }
 },
 "nbformat": 4,
 "nbformat_minor": 5
}
